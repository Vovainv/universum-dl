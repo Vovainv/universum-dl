{
 "cells": [
  {
   "cell_type": "markdown",
   "metadata": {},
   "source": [
    "# Генеративные состязательные сети"
   ]
  },
  {
   "cell_type": "markdown",
   "metadata": {},
   "source": [
    "Обучаем две сети: одна генерирует данные, другая отличает фейковые от настоящих. Рано или поздно у нас будет генератор данных, который можно будет использовать."
   ]
  },
  {
   "cell_type": "markdown",
   "metadata": {},
   "source": [
    "Рассказывать ли WGAN и идеи Арьевского или всё ещё обычный? По-моему уже пора."
   ]
  },
  {
   "cell_type": "markdown",
   "metadata": {},
   "source": [
    "# Применения"
   ]
  },
  {
   "cell_type": "markdown",
   "metadata": {},
   "source": [
    "Ганы стали применять очень много где.\n",
    "\n",
    "Если после 2012 года и работы ЛеКуна было много хайпа, то после 2014 его стало совсем много, как раз из-за ганов.\n",
    "\n",
    "Вот наиболее значимые из них:\n",
    "\n",
    "- **CycleGAN**.\n",
    "- **WGAN**.\n",
    "- **Unsupervised NMT**."
   ]
  }
 ],
 "metadata": {
  "kernelspec": {
   "display_name": "Python 3",
   "language": "python",
   "name": "python3"
  },
  "language_info": {
   "codemirror_mode": {
    "name": "ipython",
    "version": 3
   },
   "file_extension": ".py",
   "mimetype": "text/x-python",
   "name": "python",
   "nbconvert_exporter": "python",
   "pygments_lexer": "ipython3",
   "version": "3.5.2"
  }
 },
 "nbformat": 4,
 "nbformat_minor": 2
}
