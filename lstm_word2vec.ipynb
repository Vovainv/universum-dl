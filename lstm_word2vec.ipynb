{
 "cells": [
  {
   "cell_type": "markdown",
   "metadata": {},
   "source": [
    "# Как на самом деле работают RNN"
   ]
  },
  {
   "cell_type": "markdown",
   "metadata": {},
   "source": [
    "В рекуррентных сетях центральная проблема — затухающий градиент. С ней борятся с помощью механизма памяти."
   ]
  },
  {
   "cell_type": "markdown",
   "metadata": {},
   "source": [
    "# Long-short Term Memory"
   ]
  },
  {
   "cell_type": "markdown",
   "metadata": {},
   "source": [
    "# Gated Recurrent Unit"
   ]
  },
  {
   "cell_type": "markdown",
   "metadata": {},
   "source": [
    "Кстати, в отличие от CNN, рекуррентные сети существовали давно. Юрген Шмидхубер опубликовал LSTM в 1996 (?), но тогда не было данных и вычислительных мощностей."
   ]
  },
  {
   "cell_type": "markdown",
   "metadata": {},
   "source": [
    "На практике word2vec-и никто не считает (используют предобученные), но мы будем."
   ]
  },
  {
   "cell_type": "markdown",
   "metadata": {},
   "source": [
    "Нормальный word2vec обучают на других задачах (обычно предсказание контекста по слову и наоборот). Fasttext, GloVe — это просто разные алгоритмы."
   ]
  },
  {
   "cell_type": "markdown",
   "metadata": {},
   "source": [
    "# Attention*"
   ]
  },
  {
   "cell_type": "markdown",
   "metadata": {},
   "source": [
    "С 2017 года в самом передовом нейросетевом NLP почти всегда используется в каком-то виде механизм attention (англ. «внимание»).\n",
    "\n",
    "В Google даже сделали сеть для перевода («Transformer»), которая не использует каких-либо скрытых состояний, которая сейчас считается лучшей в мире (см. Attention is All You Need).\n",
    "\n",
    "Его можно рассмотреть как базу данных: у нас есть какие-то данные (векторизованные, одного размера), у них есть ключи, и нам по запросу нужно эти данные вернуть."
   ]
  },
  {
   "cell_type": "markdown",
   "metadata": {},
   "source": [
    "# Трюки и хаки"
   ]
  },
  {
   "cell_type": "markdown",
   "metadata": {},
   "source": [
    "Если у нас мало данных, то word2vec можно заморозить.\n",
    "\n",
    "LSTM и GRU можно сделать двусторонними. В Keras это делается просто:"
   ]
  },
  {
   "cell_type": "code",
   "execution_count": null,
   "metadata": {
    "collapsed": true
   },
   "outputs": [],
   "source": []
  }
 ],
 "metadata": {
  "kernelspec": {
   "display_name": "Python 3",
   "language": "python",
   "name": "python3"
  },
  "language_info": {
   "codemirror_mode": {
    "name": "ipython",
    "version": 3
   },
   "file_extension": ".py",
   "mimetype": "text/x-python",
   "name": "python",
   "nbconvert_exporter": "python",
   "pygments_lexer": "ipython3",
   "version": "3.5.2"
  }
 },
 "nbformat": 4,
 "nbformat_minor": 2
}
