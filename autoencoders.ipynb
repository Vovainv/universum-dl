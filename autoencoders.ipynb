{
 "cells": [
  {
   "cell_type": "markdown",
   "metadata": {},
   "source": [
    "# Что такое сжатие?"
   ]
  },
  {
   "cell_type": "markdown",
   "metadata": {},
   "source": [
    "Сжатие можно рассмотреть преобразование каких-либо данных в какое-то промежуточное и наоборот.\n",
    "Encoder-ом будем обозначать сеть, которая $A \\to Z$. Декодер делает $Z \\to A$."
   ]
  },
  {
   "cell_type": "markdown",
   "metadata": {},
   "source": [
    "Вообще, сжатие данных на основе автоэнкодеров возможно. В некоторых областях оно даже может побить стандартные архиваторы. Но в ML автоэнкодеры применяются ради других свойств, а именно ради манипуляции с их крайне информативным скрытым состоянием."
   ]
  },
  {
   "cell_type": "markdown",
   "metadata": {},
   "source": [
    "# PCA"
   ]
  },
  {
   "cell_type": "markdown",
   "metadata": {},
   "source": [
    "В курсе по ML вам должны были рассказать про метод опорных компонент (PCA). Его можно также рассмотреть как проекцию некоторого множества точек на "
   ]
  },
  {
   "cell_type": "markdown",
   "metadata": {},
   "source": [
    "Что, если мы хотим плавно переводить изображения из одного другого? Просто наложение смотрится не очень."
   ]
  },
  {
   "cell_type": "markdown",
   "metadata": {},
   "source": [
    "# CNN"
   ]
  },
  {
   "cell_type": "markdown",
   "metadata": {},
   "source": [
    "На "
   ]
  },
  {
   "cell_type": "markdown",
   "metadata": {},
   "source": [
    "Следующая часть не обязательная, но интересная."
   ]
  },
  {
   "cell_type": "markdown",
   "metadata": {},
   "source": [
    "# Вариационные автоэнкодеры"
   ]
  },
  {
   "cell_type": "markdown",
   "metadata": {},
   "source": [
    "Кажется, даже так оно работает не очень. Посмотрим на распределение точек в латентном представлении."
   ]
  },
  {
   "cell_type": "code",
   "execution_count": null,
   "metadata": {
    "collapsed": true
   },
   "outputs": [],
   "source": [
    "# 2д график, каждая цифра своим цветом"
   ]
  },
  {
   "cell_type": "markdown",
   "metadata": {},
   "source": [
    "При морфинге на самом деле возникнет проблема: умеет ли наш декодер генерировать что-то адекватное из точек, которые расположены далеко от основных кластеров?\n",
    "\n",
    "Это можно пофиксить, добавив дополнительное слагаемое в функцию потерь. Мы хотим, чтобы латентное представление было гауссовым. Распишем KL-дивергенцию:"
   ]
  },
  {
   "cell_type": "code",
   "execution_count": null,
   "metadata": {
    "collapsed": true
   },
   "outputs": [],
   "source": []
  },
  {
   "cell_type": "markdown",
   "metadata": {},
   "source": [
    "Кстати, наша модель получилась *генеративной* — мы можем получать новые сэмплы, взяв нормальное распределение и прогнав через декодер."
   ]
  }
 ],
 "metadata": {
  "kernelspec": {
   "display_name": "Python 3",
   "language": "python",
   "name": "python3"
  },
  "language_info": {
   "codemirror_mode": {
    "name": "ipython",
    "version": 3
   },
   "file_extension": ".py",
   "mimetype": "text/x-python",
   "name": "python",
   "nbconvert_exporter": "python",
   "pygments_lexer": "ipython3",
   "version": "3.5.2"
  }
 },
 "nbformat": 4,
 "nbformat_minor": 2
}
